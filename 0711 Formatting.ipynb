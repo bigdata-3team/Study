{
 "cells": [
  {
   "cell_type": "code",
   "execution_count": 70,
   "metadata": {},
   "outputs": [],
   "source": [
    "from IPython.core.interactiveshell import InteractiveShell\n",
    "InteractiveShell.ast_node_interactivity = \"all\""
   ]
  },
  {
   "cell_type": "raw",
   "metadata": {},
   "source": [
    "크롤링할 때 문자열을 알면 좋음"
   ]
  },
  {
   "cell_type": "code",
   "execution_count": 10,
   "metadata": {},
   "outputs": [],
   "source": [
    "def x():\n",
    "    '''문근영'''\n",
    "    pass\n",
    "# func.이나 class에서 설명해줄 때, Docstring 사용\n",
    "# 이때는 할당을 안함. 근데 할당, binding이 가능"
   ]
  },
  {
   "cell_type": "code",
   "execution_count": 7,
   "metadata": {},
   "outputs": [
    {
     "name": "stdout",
     "output_type": "stream",
     "text": [
      "\n",
      "문근\n",
      "영\n",
      "\n"
     ]
    }
   ],
   "source": [
    "a = '''\n",
    "문근\n",
    "영\n",
    "'''\n",
    "# 여러 줄 이상 정의할 수 있음\n",
    "print(a)"
   ]
  },
  {
   "cell_type": "code",
   "execution_count": 13,
   "metadata": {},
   "outputs": [
    {
     "data": {
      "text/plain": [
       "'\\n문근\\n영\\n'"
      ]
     },
     "execution_count": 13,
     "metadata": {},
     "output_type": "execute_result"
    }
   ],
   "source": [
    "a\n",
    "# \\n이 보임. print()하면 한줄씩 보임\n",
    "# 파이썬 명령형 창에는 a를 치면 어떤 것을 보여줌\n",
    "# a를 치면 repr을 보여줌"
   ]
  },
  {
   "cell_type": "code",
   "execution_count": 15,
   "metadata": {},
   "outputs": [
    {
     "data": {
      "text/plain": [
       "\"'\\\\n문근\\\\n영\\\\n'\""
      ]
     },
     "execution_count": 15,
     "metadata": {},
     "output_type": "execute_result"
    }
   ],
   "source": [
    "a.__repr__()\n",
    "# 메소드 래퍼\n",
    "# 메소드니까 () 사용"
   ]
  },
  {
   "cell_type": "raw",
   "metadata": {},
   "source": [
    "a를 치는 순간 내부적으로 repr이 되어있는데\n",
    "쥬피터노트북은 한 번 더 \"\" 감싸서 \\n을 보여줌\n",
    "\\n은 개행문자\n",
    "\n",
    "파이썬 repr은 무엇인가?"
   ]
  },
  {
   "cell_type": "code",
   "execution_count": 22,
   "metadata": {},
   "outputs": [],
   "source": [
    "class X():\n",
    "    def __repr__(self):\n",
    "        return 'A'\n",
    "    def __str__(self):\n",
    "        return 'B'"
   ]
  },
  {
   "cell_type": "code",
   "execution_count": 23,
   "metadata": {},
   "outputs": [
    {
     "data": {
      "text/plain": [
       "A"
      ]
     },
     "execution_count": 23,
     "metadata": {},
     "output_type": "execute_result"
    }
   ],
   "source": [
    "x = X()\n",
    "x"
   ]
  },
  {
   "cell_type": "raw",
   "metadata": {},
   "source": [
    "repr은 인스턴스를 말할 때\n",
    "인스턴스에 대해서 호출할 때 \n",
    "아웃풋으로 보여주는 것이 __repr__\n",
    "\n",
    "__repr__말고 __str__도 있음\n",
    "repr은 객체를 부를 때 출력해주는 리턴 값\n",
    "print는 str을 보여줌\n",
    "\n",
    "사용자한테 보여줄 값도 정의해줄 수 있음\n",
    "repr과 str이 같은 경우도 많음\n",
    "\n"
   ]
  },
  {
   "cell_type": "code",
   "execution_count": 25,
   "metadata": {},
   "outputs": [
    {
     "name": "stdout",
     "output_type": "stream",
     "text": [
      "B\n"
     ]
    }
   ],
   "source": [
    "print(x) # str을 보여줌"
   ]
  },
  {
   "cell_type": "code",
   "execution_count": 11,
   "metadata": {},
   "outputs": [
    {
     "ename": "SyntaxError",
     "evalue": "EOL while scanning string literal (<ipython-input-11-6b98b2221eeb>, line 1)",
     "output_type": "error",
     "traceback": [
      "\u001b[1;36m  File \u001b[1;32m\"<ipython-input-11-6b98b2221eeb>\"\u001b[1;36m, line \u001b[1;32m1\u001b[0m\n\u001b[1;33m    a = '\u001b[0m\n\u001b[1;37m         ^\u001b[0m\n\u001b[1;31mSyntaxError\u001b[0m\u001b[1;31m:\u001b[0m EOL while scanning string literal\n"
     ]
    }
   ],
   "source": [
    "a = '\n",
    "asd\n",
    "asd'\n",
    "# 여러 줄 동시에 쓰고 싶을 때 1개는 안됨"
   ]
  },
  {
   "cell_type": "code",
   "execution_count": 28,
   "metadata": {},
   "outputs": [
    {
     "name": "stdout",
     "output_type": "stream",
     "text": [
      "\n",
      "\n"
     ]
    }
   ],
   "source": [
    "a = '\\n' # 이것을 출력하고 싶을 때\n",
    "print(a) # print는 str에서 \\n을 공백 줄로 바꿔버림"
   ]
  },
  {
   "cell_type": "code",
   "execution_count": 29,
   "metadata": {},
   "outputs": [
    {
     "name": "stdout",
     "output_type": "stream",
     "text": [
      "\\n\n"
     ]
    }
   ],
   "source": [
    "a = r'\\n' # raw 데이터, 그대로 출력하라는 뜻\n",
    "print(a)"
   ]
  },
  {
   "cell_type": "code",
   "execution_count": 31,
   "metadata": {},
   "outputs": [
    {
     "name": "stdout",
     "output_type": "stream",
     "text": [
      "b'\\n'\n"
     ]
    }
   ],
   "source": [
    "a = b'\\n' # byte\n",
    "a = u'\\n' # unicode는 u 생략"
   ]
  },
  {
   "cell_type": "raw",
   "metadata": {},
   "source": [
    "문자열의 경우, 문자열을 추가해서 보여주는 또 다른 기법\n",
    "포맷팅 기법"
   ]
  },
  {
   "cell_type": "code",
   "execution_count": 4,
   "metadata": {},
   "outputs": [],
   "source": [
    "errno = 50159152\n",
    "name = '문근영'"
   ]
  },
  {
   "cell_type": "markdown",
   "metadata": {},
   "source": [
    "## \"Old Style\" String Formatting (% operator) = printf\n",
    "\n",
    "여러가지 일반적인 오류를 (예를 들어 튜플과 딕셔너리를 올바르게 표시하지 못하는 것) 유발하는 다양한 문제점들이 있습니다. \n",
    "\n",
    "새 포맷 문자열 리터럴이나 str.format() 인터페이스 혹은 템플릿 문자열을 사용하면 이러한 오류를 피할 수 있습니다. \n",
    "\n",
    "이 대안들은 또한 텍스트 포매팅에 더욱 강력하고 유연하며 확장 가능한 접근법을 제공합니다."
   ]
  },
  {
   "cell_type": "raw",
   "metadata": {},
   "source": [
    "포맷팅 기법은 변수처럼 쓸 수 있게 보여주는 방식\n",
    "숫자 10글자 중에 4글자를 고치거나\n",
    "1자리 숫자를 4개로 표현하는 등\n",
    "\n",
    "파이썬의 포맷팅은 3가지\n",
    "배운 것:__repr__, __str__, r'', b'', u''\n",
    "\n",
    "1. %s가 name으로 대치\n",
    "=> print 찍으면 \\n이 공백 줄로 대치와 비슷\n",
    "\n",
    "2. %x는 숫자를 16진수(0x)로 대치 \n",
    "   %o는 숫자를 8진수(0o)\n",
    "\n",
    "이렇게 바꿔주는 방식을 포맷팅임. 문자열에서 중요\n"
   ]
  },
  {
   "cell_type": "code",
   "execution_count": 5,
   "metadata": {},
   "outputs": [
    {
     "data": {
      "text/plain": [
       "'Hello, 문근영'"
      ]
     },
     "execution_count": 5,
     "metadata": {},
     "output_type": "execute_result"
    }
   ],
   "source": [
    "'Hello, %s' % name"
   ]
  },
  {
   "cell_type": "code",
   "execution_count": 9,
   "metadata": {},
   "outputs": [
    {
     "data": {
      "text/plain": [
       "'2fd5e30'"
      ]
     },
     "execution_count": 9,
     "metadata": {},
     "output_type": "execute_result"
    }
   ],
   "source": [
    "'%x' % errno"
   ]
  },
  {
   "cell_type": "code",
   "execution_count": null,
   "metadata": {},
   "outputs": [],
   "source": [
    "unittes는 Java\n",
    "Comprehension은 Pascal\n",
    "이 포맷팅 방식은 C언어에서 차용"
   ]
  },
  {
   "cell_type": "code",
   "execution_count": 10,
   "metadata": {},
   "outputs": [
    {
     "data": {
      "text/plain": [
       "'Hey 문근영, there is a 0x2fd5e30 error!'"
      ]
     },
     "execution_count": 10,
     "metadata": {},
     "output_type": "execute_result"
    }
   ],
   "source": [
    "'Hey %s, there is a 0x%x error!' %(name, errno)"
   ]
  },
  {
   "cell_type": "raw",
   "metadata": {},
   "source": [
    "%s는 name으로 대치, %x는 errno로 대치\n",
    "\n",
    "\\n은 공백, \\t은 tab키로 대치\n",
    "내부적으로 개행문자가 포맷팅되는 것\n",
    "\n",
    "문자 데이터 가지고 사용자한테 보여주는 기법으로 활용 가능"
   ]
  },
  {
   "cell_type": "code",
   "execution_count": 15,
   "metadata": {},
   "outputs": [
    {
     "name": "stdout",
     "output_type": "stream",
     "text": [
      "\n",
      "aaa\tbbb\n"
     ]
    }
   ],
   "source": [
    "a = '\\naaa\\tbbb'\n",
    "print(a)"
   ]
  },
  {
   "cell_type": "raw",
   "metadata": {},
   "source": [
    "tuple은 sequence type이므로\n",
    "%( , ) 순서대로 바뀜\n",
    "\n",
    "tuple 대신 dictionary도 가능\n",
    "% 사이에 이름을 지정해서 사용"
   ]
  },
  {
   "cell_type": "code",
   "execution_count": 14,
   "metadata": {},
   "outputs": [
    {
     "data": {
      "text/plain": [
       "'Hey 문근영, there is a 0x2fd5e30 error!'"
      ]
     },
     "execution_count": 14,
     "metadata": {},
     "output_type": "execute_result"
    }
   ],
   "source": [
    "'Hey %(name)s, there is a 0x%(errno)x error!' %{'name':name, 'errno':errno}"
   ]
  },
  {
   "cell_type": "code",
   "execution_count": 16,
   "metadata": {},
   "outputs": [
    {
     "data": {
      "text/plain": [
       "'Hello, 근영 문. You are 30. You are a 배우. You were a member of 나무.'"
      ]
     },
     "execution_count": 16,
     "metadata": {},
     "output_type": "execute_result"
    }
   ],
   "source": [
    "first_name = '근영'\n",
    "last_name = '문'\n",
    "age = 30\n",
    "profession = '배우'\n",
    "affiliation = '나무'\n",
    "\"Hello, %s %s. You are %s. You are a %s. You were a member of %s.\" \\\n",
    "% (first_name, last_name, age, profession, affiliation)"
   ]
  },
  {
   "cell_type": "raw",
   "metadata": {},
   "source": [
    "이 방법은 복잡해서 파이썬 2.2 부터는 사용하지 않음\n",
    "\n",
    "새로운 방식 제공하지만 아직까지 쓰이는 이유는\n",
    "파이썬은 C언어로 만들어졌고, \n",
    "파이썬 내부 구조를 이해하기 위해서는 C언어를 잘해야함\n",
    "C언어를 잘하는 사람들은 이러한 C방식을 아주 좋아함\n",
    "\n",
    "파이썬을 잘 하는 사람들의 특징은 아직까지 C방식을 사용하는 사람들이 많음\n",
    "그러나 이 방식은 깔끔하지가 않음\n",
    "\n",
    "unittest를 이해가 잘 안되는 사람들은\n",
    "이것은 Java 스타일이므로, Java를 잘하는 사람들은 쉽게 이해함\n",
    "그래서 unittest말고 파이썬 방식으로 지원하는 다른 라이브러리들이 있음\n",
    "\n",
    "dict. 방식은 C방식, 눈에 잘 안들어옴\n",
    "파이썬 자체에서 파이썬 방식을 제공함\n",
    "%대신 .을 사용하는 방식"
   ]
  },
  {
   "cell_type": "markdown",
   "metadata": {},
   "source": [
    "# \"New Style\" String Formatting (str.format)"
   ]
  },
  {
   "cell_type": "code",
   "execution_count": 17,
   "metadata": {},
   "outputs": [
    {
     "data": {
      "text/plain": [
       "'Hello, 문근영'"
      ]
     },
     "execution_count": 17,
     "metadata": {},
     "output_type": "execute_result"
    }
   ],
   "source": [
    "'Hello, {}'.format(name)"
   ]
  },
  {
   "cell_type": "raw",
   "metadata": {},
   "source": [
    ".format을 쓰고, % 대신 {}\n",
    "{}가 name으로 대치된다.\n",
    "\n",
    "파이썬 관점에서 훨씬 보기 좋음\n",
    "문자열 뒤에 % 쓰지않고 .format\n",
    "method 방식하고 똑같음"
   ]
  },
  {
   "cell_type": "code",
   "execution_count": 18,
   "metadata": {},
   "outputs": [
    {
     "data": {
      "text/plain": [
       "'Hey 문근영, there is a 0x2fd5e30 error!'"
      ]
     },
     "execution_count": 18,
     "metadata": {},
     "output_type": "execute_result"
    }
   ],
   "source": [
    "'Hey {name}, there is a 0x{errno:x} error!'.format(name=name, errno=errno)"
   ]
  },
  {
   "cell_type": "raw",
   "metadata": {},
   "source": [
    "{}안에 name 쓰면, keyword 방식\n",
    "keyword 방식처럼 쓸 수 있음"
   ]
  },
  {
   "cell_type": "code",
   "execution_count": 19,
   "metadata": {},
   "outputs": [
    {
     "data": {
      "text/plain": [
       "'Hello, 문근영. You are 30.'"
      ]
     },
     "execution_count": 19,
     "metadata": {},
     "output_type": "execute_result"
    }
   ],
   "source": [
    "'Hello, {}. You are {}.'.format(name, age)"
   ]
  },
  {
   "cell_type": "raw",
   "metadata": {},
   "source": [
    "차례대로 하면 positional 방식\n",
    "positional 방식은 순서를 정의해줄 수 있음\n",
    "\n",
    "C언어를 잘하는 사람이 쓰는 파이썬이 아닌\n",
    "파이썬만 잘하는 사람들은 이 방식을 자주 사용함"
   ]
  },
  {
   "cell_type": "code",
   "execution_count": 20,
   "metadata": {},
   "outputs": [
    {
     "data": {
      "text/plain": [
       "'Hello, 문근영. You are 30.'"
      ]
     },
     "execution_count": 20,
     "metadata": {},
     "output_type": "execute_result"
    }
   ],
   "source": [
    "'Hello, {1}. You are {0}.'.format(age, name)"
   ]
  },
  {
   "cell_type": "code",
   "execution_count": 21,
   "metadata": {},
   "outputs": [
    {
     "data": {
      "text/plain": [
       "'Hello, Eric. You are 74.'"
      ]
     },
     "execution_count": 21,
     "metadata": {},
     "output_type": "execute_result"
    }
   ],
   "source": [
    "person = {'name': 'Eric', 'age':74}\n",
    "\"Hello, {name}. You are {age}.\".format(name=person['name'], age=person['age'])"
   ]
  },
  {
   "cell_type": "code",
   "execution_count": 26,
   "metadata": {},
   "outputs": [
    {
     "name": "stdout",
     "output_type": "stream",
     "text": [
      "Hello, 근영 문. You are 30. You are a 배우. You were a member of 나무.\n"
     ]
    }
   ],
   "source": [
    "first_name = '근영'\n",
    "last_name = '문'\n",
    "age = 30\n",
    "profession = '배우'\n",
    "affiliation = '나무'\n",
    "print((\"Hello, {first_name} {last_name}. You are {age}. \" +\n",
    "\"You are a {profession}. You were a member of {affiliation}.\")\\\n",
    "      .format(first_name=first_name, last_name=last_name, age=age,\\\n",
    "        profession=profession, affiliation=affiliation))"
   ]
  },
  {
   "cell_type": "raw",
   "metadata": {},
   "source": [
    "이 방식으로 문자열 값을 보여줄 때 사용할 수 있다\n",
    "파이썬 3.6부터 새로운 방식 제공"
   ]
  },
  {
   "cell_type": "markdown",
   "metadata": {},
   "source": [
    "# String Interpolation / f-Strings (Python 3.6+)"
   ]
  },
  {
   "cell_type": "code",
   "execution_count": 32,
   "metadata": {},
   "outputs": [
    {
     "data": {
      "text/plain": [
       "'문근영'"
      ]
     },
     "execution_count": 32,
     "metadata": {},
     "output_type": "execute_result"
    }
   ],
   "source": [
    "name"
   ]
  },
  {
   "cell_type": "code",
   "execution_count": 36,
   "metadata": {},
   "outputs": [
    {
     "data": {
      "text/plain": [
       "'문근영'"
      ]
     },
     "execution_count": 36,
     "metadata": {},
     "output_type": "execute_result"
    }
   ],
   "source": [
    "f'{name}'"
   ]
  },
  {
   "cell_type": "code",
   "execution_count": null,
   "metadata": {},
   "outputs": [],
   "source": [
    "문자열 앞에 f가 생김\n",
    "바로 쓸 수 있게 더욱 편해짐\n",
    "포맷방식의 name이 변수처럼 사용"
   ]
  },
  {
   "cell_type": "code",
   "execution_count": 39,
   "metadata": {},
   "outputs": [
    {
     "data": {
      "text/plain": [
       "'112'"
      ]
     },
     "execution_count": 39,
     "metadata": {},
     "output_type": "execute_result"
    }
   ],
   "source": [
    "def x():\n",
    "    return 112\n",
    "f'{x()}'"
   ]
  },
  {
   "cell_type": "raw",
   "metadata": {},
   "source": [
    "변수 또는 함수를 쓸 수 있다.\n",
    "아주 쉽게 결과 값을 문자열로 만들어줄 수 있는 기법들"
   ]
  },
  {
   "cell_type": "code",
   "execution_count": 41,
   "metadata": {
    "scrolled": true
   },
   "outputs": [
    {
     "data": {
      "text/plain": [
       "'9'"
      ]
     },
     "execution_count": 41,
     "metadata": {},
     "output_type": "execute_result"
    }
   ],
   "source": [
    "f'{3+6}'"
   ]
  },
  {
   "cell_type": "code",
   "execution_count": 43,
   "metadata": {},
   "outputs": [
    {
     "data": {
      "text/plain": [
       "'3'"
      ]
     },
     "execution_count": 43,
     "metadata": {},
     "output_type": "execute_result"
    }
   ],
   "source": [
    "a = 1\n",
    "f'{3 if a==1 else 5}'"
   ]
  },
  {
   "cell_type": "code",
   "execution_count": null,
   "metadata": {},
   "outputs": [],
   "source": []
  },
  {
   "cell_type": "code",
   "execution_count": 27,
   "metadata": {},
   "outputs": [],
   "source": [
    "a = '근영사마'"
   ]
  },
  {
   "cell_type": "code",
   "execution_count": 28,
   "metadata": {},
   "outputs": [],
   "source": [
    "def b():\n",
    "    return '근영님'"
   ]
  },
  {
   "cell_type": "code",
   "execution_count": 29,
   "metadata": {},
   "outputs": [
    {
     "data": {
      "text/plain": [
       "'근영님 예쁘다'"
      ]
     },
     "execution_count": 29,
     "metadata": {},
     "output_type": "execute_result"
    }
   ],
   "source": [
    "f'{b()} 예쁘다'"
   ]
  },
  {
   "cell_type": "code",
   "execution_count": 31,
   "metadata": {},
   "outputs": [
    {
     "data": {
      "text/plain": [
       "'Hello, 문근영!'"
      ]
     },
     "execution_count": 31,
     "metadata": {},
     "output_type": "execute_result"
    }
   ],
   "source": [
    "f'Hello, {name}!'"
   ]
  },
  {
   "cell_type": "code",
   "execution_count": 40,
   "metadata": {},
   "outputs": [
    {
     "data": {
      "text/plain": [
       "'Five plus ten is 15 and not 30.'"
      ]
     },
     "execution_count": 40,
     "metadata": {},
     "output_type": "execute_result"
    }
   ],
   "source": [
    "a = 5\n",
    "b = 10\n",
    "f'Five plus ten is {a + b} and not {2 * (a + b)}.'"
   ]
  },
  {
   "cell_type": "raw",
   "metadata": {},
   "source": [
    "이것을 이용하여 예쁘게 문자열로 제공할 수 있는 함수 기능을\n",
    "파이썬 3.6에서 Format String 이름으로 지원하기 시작\n",
    "출력을 아름답게 할 수 있음"
   ]
  },
  {
   "cell_type": "code",
   "execution_count": 46,
   "metadata": {},
   "outputs": [
    {
     "data": {
      "text/plain": [
       "\"Hello, Bob! How's it going?\""
      ]
     },
     "execution_count": 46,
     "metadata": {},
     "output_type": "execute_result"
    }
   ],
   "source": [
    "def greet(name, question):\n",
    "    return f\"Hello, {name}! How's it {question}?\"\n",
    "greet('Bob', 'going')"
   ]
  },
  {
   "cell_type": "code",
   "execution_count": 48,
   "metadata": {},
   "outputs": [
    {
     "data": {
      "text/plain": [
       "\"Hey 문근영, there's a 0x2fd5e30 error!\""
      ]
     },
     "execution_count": 48,
     "metadata": {},
     "output_type": "execute_result"
    }
   ],
   "source": [
    "def greet(name, question):\n",
    "    return \"Hello, \" + name + \"! How's it \" + question + \"?\"\n",
    "f\"Hey {name}, there's a {errno:#x} error!\""
   ]
  },
  {
   "cell_type": "code",
   "execution_count": 50,
   "metadata": {},
   "outputs": [
    {
     "data": {
      "text/plain": [
       "'74'"
      ]
     },
     "execution_count": 50,
     "metadata": {},
     "output_type": "execute_result"
    }
   ],
   "source": [
    "f'{2 * 37}'"
   ]
  },
  {
   "cell_type": "code",
   "execution_count": null,
   "metadata": {},
   "outputs": [],
   "source": [
    "이 기능을 잘 활용하여 보고서 자동생성 용으로 만들 수 있음\n",
    "\n",
    "자연어 처리할 때 이 기법을 쓰면\n",
    "자연어를 새로 생성하거나, 챗봇을 만들 때 편하게 사용할 수 있음\n",
    "\n",
    "이렇게 모양을 만들어놓고, 값을 변화시키는 것을 Template 기법이라고 함\n",
    "보고서 자동생성할 때 Template 기법을 사용함\n",
    "\n",
    "이런 템플릿 기법을 아주 간단하게 사용할 수 있음"
   ]
  },
  {
   "cell_type": "code",
   "execution_count": 51,
   "metadata": {},
   "outputs": [
    {
     "data": {
      "text/plain": [
       "'eric idle is funny.'"
      ]
     },
     "execution_count": 51,
     "metadata": {},
     "output_type": "execute_result"
    }
   ],
   "source": [
    "def to_lowercase(input):\n",
    "    return input.lower()\n",
    "\n",
    "name = \"Eric Idle\"\n",
    "f\"{to_lowercase(name)} is funny.\""
   ]
  },
  {
   "cell_type": "code",
   "execution_count": 52,
   "metadata": {},
   "outputs": [
    {
     "data": {
      "text/plain": [
       "'eric idle is funny.'"
      ]
     },
     "execution_count": 52,
     "metadata": {},
     "output_type": "execute_result"
    }
   ],
   "source": [
    "f\"{name.lower()} is funny.\""
   ]
  },
  {
   "cell_type": "code",
   "execution_count": 57,
   "metadata": {},
   "outputs": [],
   "source": [
    "class Comedian:\n",
    "    def __init__(self, first_name, last_name, age):\n",
    "        self.first_name = first_name\n",
    "        self.last_name = last_name\n",
    "        self.age = age\n",
    "        \n",
    "    def __str__(self):\n",
    "        return f\"{self.first_name} {self.last_name} is {self.age}.\"\n",
    "    \n",
    "    def __repr__(self):\n",
    "        return f\"{self.first_name} {self.last_name} is {self.age}. Surprise!\""
   ]
  },
  {
   "cell_type": "code",
   "execution_count": 72,
   "metadata": {},
   "outputs": [
    {
     "data": {
      "text/plain": [
       "'Eric Idle is 74.'"
      ]
     },
     "execution_count": 72,
     "metadata": {},
     "output_type": "execute_result"
    },
    {
     "data": {
      "text/plain": [
       "'Eric Idle is 74. Surprise!'"
      ]
     },
     "execution_count": 72,
     "metadata": {},
     "output_type": "execute_result"
    }
   ],
   "source": [
    "new_comedian = Comedian(\"Eric\", \"Idle\", \"74\")\n",
    "f\"{new_comedian}\"\n",
    "f\"{new_comedian!r}\""
   ]
  },
  {
   "cell_type": "code",
   "execution_count": 62,
   "metadata": {},
   "outputs": [
    {
     "data": {
      "text/plain": [
       "'Hi Eric Idle. You a are a {profession}. You were in {affiliation}.'"
      ]
     },
     "execution_count": 62,
     "metadata": {},
     "output_type": "execute_result"
    }
   ],
   "source": [
    "message = (\n",
    "    f\"Hi {name}. \"\n",
    "    \"You a are a {profession}. \"\n",
    "     \"You were in {affiliation}.\"\n",
    ")\n",
    "message"
   ]
  },
  {
   "cell_type": "code",
   "execution_count": 64,
   "metadata": {},
   "outputs": [
    {
     "data": {
      "text/plain": [
       "'Hi Eric Idle. You a are a 배우. You were in 나무.'"
      ]
     },
     "execution_count": 64,
     "metadata": {},
     "output_type": "execute_result"
    }
   ],
   "source": [
    "message = f\"Hi {name}. \"\\\n",
    "    f\"You a are a {profession}. \"\\\n",
    "     f\"You were in {affiliation}.\"\n",
    "\n",
    "message"
   ]
  },
  {
   "cell_type": "code",
   "execution_count": 65,
   "metadata": {},
   "outputs": [
    {
     "data": {
      "text/plain": [
       "'\\n    Hi Eric Idle.\\n   You are a 배우.\\nYou were in 나무.\\n'"
      ]
     },
     "execution_count": 65,
     "metadata": {},
     "output_type": "execute_result"
    }
   ],
   "source": [
    "message = f\"\"\"\n",
    "    Hi {name}.\n",
    "   You are a {profession}.\n",
    "You were in {affiliation}.\n",
    "\"\"\"\n",
    "\n",
    "message"
   ]
  },
  {
   "cell_type": "code",
   "execution_count": 66,
   "metadata": {},
   "outputs": [
    {
     "name": "stdout",
     "output_type": "stream",
     "text": [
      "13.7 ns ± 2.71 ns per loop (mean ± std. dev. of 7 runs, 100000000 loops each)\n"
     ]
    }
   ],
   "source": [
    "%%timeit\n",
    "\"\"\"name = \"Eric\"\n",
    "    age = 74\n",
    "    '%s is %s.' % (name, age)\"\"\""
   ]
  },
  {
   "cell_type": "code",
   "execution_count": 67,
   "metadata": {},
   "outputs": [
    {
     "name": "stdout",
     "output_type": "stream",
     "text": [
      "15.7 ns ± 0.751 ns per loop (mean ± std. dev. of 7 runs, 100000000 loops each)\n"
     ]
    }
   ],
   "source": [
    "%%timeit\n",
    "\"\"\"name = \"Eric\"\n",
    "    age = 74\n",
    "    '{} is {}.'.format(name, age)\"\"\""
   ]
  },
  {
   "cell_type": "code",
   "execution_count": 68,
   "metadata": {},
   "outputs": [
    {
     "name": "stdout",
     "output_type": "stream",
     "text": [
      "15.2 ns ± 0.697 ns per loop (mean ± std. dev. of 7 runs, 100000000 loops each)\n"
     ]
    }
   ],
   "source": [
    "%%timeit\n",
    "\"\"\"name = \"Eric\"\n",
    "    age = 74\n",
    "    f'{name} is {age}.'\"\"\""
   ]
  },
  {
   "cell_type": "markdown",
   "metadata": {},
   "source": [
    "## 주의"
   ]
  },
  {
   "cell_type": "code",
   "execution_count": 71,
   "metadata": {},
   "outputs": [
    {
     "data": {
      "text/plain": [
       "'Eric Idle'"
      ]
     },
     "execution_count": 71,
     "metadata": {},
     "output_type": "execute_result"
    },
    {
     "data": {
      "text/plain": [
       "'Eric Idle'"
      ]
     },
     "execution_count": 71,
     "metadata": {},
     "output_type": "execute_result"
    },
    {
     "data": {
      "text/plain": [
       "'Eric Idle'"
      ]
     },
     "execution_count": 71,
     "metadata": {},
     "output_type": "execute_result"
    },
    {
     "data": {
      "text/plain": [
       "'Eric Idle'"
      ]
     },
     "execution_count": 71,
     "metadata": {},
     "output_type": "execute_result"
    },
    {
     "data": {
      "text/plain": [
       "'The \"comedian\" is Eric Idle, aged 30.'"
      ]
     },
     "execution_count": 71,
     "metadata": {},
     "output_type": "execute_result"
    }
   ],
   "source": [
    "f\"{'Eric Idle'}\"\n",
    "f'{\"Eric Idle\"}'\n",
    "f\"\"\"Eric Idle\"\"\"\n",
    "f'''Eric Idle'''\n",
    "f\"The \\\"comedian\\\" is {name}, aged {age}.\""
   ]
  },
  {
   "cell_type": "code",
   "execution_count": 73,
   "metadata": {},
   "outputs": [
    {
     "data": {
      "text/plain": [
       "'The comedian is Eric Idle, aged 74.'"
      ]
     },
     "execution_count": 73,
     "metadata": {},
     "output_type": "execute_result"
    }
   ],
   "source": [
    "comedian = {'name' : 'Eric Idle', 'age' : 74}\n",
    "f\"The comedian is {comedian['name']}, aged {comedian['age']}.\""
   ]
  },
  {
   "cell_type": "code",
   "execution_count": 75,
   "metadata": {},
   "outputs": [
    {
     "ename": "SyntaxError",
     "evalue": "invalid syntax (<ipython-input-75-46d8a8cc322e>, line 1)",
     "output_type": "error",
     "traceback": [
      "\u001b[1;36m  File \u001b[1;32m\"<ipython-input-75-46d8a8cc322e>\"\u001b[1;36m, line \u001b[1;32m1\u001b[0m\n\u001b[1;33m    f'The comedian is {comedian['name']}, aged {comedian['age']}.'\u001b[0m\n\u001b[1;37m                                 ^\u001b[0m\n\u001b[1;31mSyntaxError\u001b[0m\u001b[1;31m:\u001b[0m invalid syntax\n"
     ]
    }
   ],
   "source": [
    "f'The comedian is {comedian['name']}, aged {comedian['age']}.'\n",
    "# \"\" '' 구분"
   ]
  },
  {
   "cell_type": "code",
   "execution_count": 76,
   "metadata": {},
   "outputs": [
    {
     "data": {
      "text/plain": [
       "'{74}'"
      ]
     },
     "execution_count": 76,
     "metadata": {},
     "output_type": "execute_result"
    },
    {
     "data": {
      "text/plain": [
       "'{74}'"
      ]
     },
     "execution_count": 76,
     "metadata": {},
     "output_type": "execute_result"
    },
    {
     "data": {
      "text/plain": [
       "'{{74}}'"
      ]
     },
     "execution_count": 76,
     "metadata": {},
     "output_type": "execute_result"
    }
   ],
   "source": [
    "f\"{{74}}\"\n",
    "f\"{{{74}}}\"\n",
    "f\"{{{{74}}}}\""
   ]
  },
  {
   "cell_type": "code",
   "execution_count": 77,
   "metadata": {},
   "outputs": [
    {
     "ename": "SyntaxError",
     "evalue": "f-string expression part cannot include a backslash (<ipython-input-77-35cb9fe0ccc1>, line 1)",
     "output_type": "error",
     "traceback": [
      "\u001b[1;36m  File \u001b[1;32m\"<ipython-input-77-35cb9fe0ccc1>\"\u001b[1;36m, line \u001b[1;32m1\u001b[0m\n\u001b[1;33m    f\"{\\\"Eric Idle\\\"}\"\u001b[0m\n\u001b[1;37m    ^\u001b[0m\n\u001b[1;31mSyntaxError\u001b[0m\u001b[1;31m:\u001b[0m f-string expression part cannot include a backslash\n"
     ]
    }
   ],
   "source": [
    "f\"{\\\"Eric Idle\\\"}\""
   ]
  },
  {
   "cell_type": "code",
   "execution_count": 78,
   "metadata": {},
   "outputs": [
    {
     "ename": "SyntaxError",
     "evalue": "f-string expression part cannot include '#' (<ipython-input-78-5416628b2379>, line 1)",
     "output_type": "error",
     "traceback": [
      "\u001b[1;36m  File \u001b[1;32m\"<ipython-input-78-5416628b2379>\"\u001b[1;36m, line \u001b[1;32m1\u001b[0m\n\u001b[1;33m    f\"Eric is {2 * 37 #Oh my!}.\"\u001b[0m\n\u001b[1;37m    ^\u001b[0m\n\u001b[1;31mSyntaxError\u001b[0m\u001b[1;31m:\u001b[0m f-string expression part cannot include '#'\n"
     ]
    }
   ],
   "source": [
    "f\"Eric is {2 * 37 #Oh my!}.\""
   ]
  },
  {
   "cell_type": "markdown",
   "metadata": {},
   "source": [
    "# Template String (Standard Library)"
   ]
  },
  {
   "cell_type": "raw",
   "metadata": {},
   "source": [
    "파이썬은 표준 라이브러리로 템플릿 기법을 지원함\n",
    "$ 이름으로 되어있으면 $ 이름을 바꿔줌\n",
    "양식을 만들어놓고, $ 이름을 써놓으면 나중에 대치할 수 있음\n",
    "\n",
    "잘 만들어놓으면 사용자한테 보여주고 싶은 것을 자동화하기 좋음\n",
    "Visualization 할 때, 어디에 뭐가 들어간다?\n",
    "위치 꼭 만들어놓고, 거기 값(숫자 값)을 제공할 때, 이 기법을 사용\n",
    "\n",
    "나중에 Visualization 테크닉할 때, 깊게 배울 것.\n",
    "이것보다 더 강력한 것이 있음\n",
    "\n",
    "사용자한테 원하는 reporting 또는 Visualization 할 때 아주 효과적\n",
    "DB 만들 때, with 알아야함\n",
    "크롤링할 때, 이 기법을 알고 있으면 수집한 데이터 저장할 때,\n",
    "내가 원하는 결과 값으로 쉽게 바꿔서 저장할 수 있음\n",
    "\n",
    "예: 온도만 저장할 때\n",
    "3, 4 이렇게 저장할 수 있지만,\n",
    "3℃, 4℃ 붙여서 저장할 수 있고,\n",
    "3만 저장했지만, 사용자한테 보여줄 때는 ℃까지 붙여서 보여줄 수 있다.\n",
    "\n",
    "이 기법을 알면 훨씬 더 유연하게 사용할 수 있다."
   ]
  },
  {
   "cell_type": "code",
   "execution_count": 81,
   "metadata": {},
   "outputs": [
    {
     "data": {
      "text/plain": [
       "'Hey, Eric Idle!'"
      ]
     },
     "execution_count": 81,
     "metadata": {},
     "output_type": "execute_result"
    }
   ],
   "source": [
    "from string import Template\n",
    "t = Template('Hey, $name!')\n",
    "t.substitute(name=name)"
   ]
  },
  {
   "cell_type": "code",
   "execution_count": 82,
   "metadata": {},
   "outputs": [],
   "source": [
    "templ_string = 'Hey $name, there is a $error error!'"
   ]
  },
  {
   "cell_type": "code",
   "execution_count": 83,
   "metadata": {},
   "outputs": [
    {
     "data": {
      "text/plain": [
       "'Hey Eric Idle, there is a 0x2fd5e30 error!'"
      ]
     },
     "execution_count": 83,
     "metadata": {},
     "output_type": "execute_result"
    }
   ],
   "source": [
    "Template(templ_string).substitute(name=name, error=hex(errno))"
   ]
  },
  {
   "cell_type": "markdown",
   "metadata": {},
   "source": [
    "### http://lucumr.pocoo.org/2016/12/29/careful-with-str-format/"
   ]
  },
  {
   "cell_type": "raw",
   "metadata": {},
   "source": [
    "파이썬에서 dir()을 하면 어떤 것을 쓸 수 있는지 모든 값을 다 알 수 있다.\n",
    "사용자한테 이런 클래스가 있는데, 사용자 입력을 이런 식으로 입력하면\n",
    "봐서 안되는 문근영 이라는 값을 알 수 있는 경우가 있음\n",
    "숨겨진 비밀번호와 같음"
   ]
  },
  {
   "cell_type": "code",
   "execution_count": 87,
   "metadata": {},
   "outputs": [],
   "source": [
    "SECRET = '문근영'\n",
    "\n",
    "class Error:\n",
    "    def __init__(self):\n",
    "        pass"
   ]
  },
  {
   "cell_type": "raw",
   "metadata": {},
   "source": [
    "사용자 input할 때\n",
    "input()을 악용하면 실제 dir()같은 것을 실행시켜서\n",
    "사용자가 알아서는 안될 데이터까지 볼 수 있다.\n",
    "\n",
    "파이썬은 해킹이 쉽다. 이렇게 기존 방법을 쓰면\n",
    "format 이나 % 방식을 써서 해킹하는 경우가 많았음\n",
    "\n",
    "format string이 필요한 이유는\n",
    "해킹이 안됨. 속도도 빠름.\n",
    "최근에 나온 f붙어 있는 것을 쓰면 가장 효율적으로 쓸 수 있음\n",
    "보통 책들은 예전에 만들어졌고, 블로그도 예전 기법을 썼음"
   ]
  },
  {
   "cell_type": "code",
   "execution_count": 90,
   "metadata": {},
   "outputs": [
    {
     "data": {
      "text/plain": [
       "'문근영'"
      ]
     },
     "execution_count": 90,
     "metadata": {},
     "output_type": "execute_result"
    }
   ],
   "source": [
    "user_input = '{error.__init__.__globals__[SECRET]}'\n",
    "err = Error()\n",
    "user_input.format(error=err)"
   ]
  },
  {
   "cell_type": "code",
   "execution_count": 91,
   "metadata": {},
   "outputs": [],
   "source": [
    "user_input = '${error.__init__.__globals__[SECRET]}'"
   ]
  },
  {
   "cell_type": "code",
   "execution_count": 92,
   "metadata": {
    "scrolled": true
   },
   "outputs": [
    {
     "ename": "ValueError",
     "evalue": "Invalid placeholder in string: line 1, col 1",
     "output_type": "error",
     "traceback": [
      "\u001b[1;31m---------------------------------------------------------------------------\u001b[0m",
      "\u001b[1;31mValueError\u001b[0m                                Traceback (most recent call last)",
      "\u001b[1;32m<ipython-input-92-4af7bcbe4c6d>\u001b[0m in \u001b[0;36m<module>\u001b[1;34m\u001b[0m\n\u001b[1;32m----> 1\u001b[1;33m \u001b[0mTemplate\u001b[0m\u001b[1;33m(\u001b[0m\u001b[0muser_input\u001b[0m\u001b[1;33m)\u001b[0m\u001b[1;33m.\u001b[0m\u001b[0msubstitute\u001b[0m\u001b[1;33m(\u001b[0m\u001b[0merror\u001b[0m\u001b[1;33m=\u001b[0m\u001b[0merr\u001b[0m\u001b[1;33m)\u001b[0m\u001b[1;33m\u001b[0m\u001b[1;33m\u001b[0m\u001b[0m\n\u001b[0m",
      "\u001b[1;32mc:\\users\\seongmin\\appdata\\local\\programs\\python\\python38\\lib\\string.py\u001b[0m in \u001b[0;36msubstitute\u001b[1;34m(self, mapping, **kws)\u001b[0m\n\u001b[0;32m    124\u001b[0m             raise ValueError('Unrecognized named group in pattern',\n\u001b[0;32m    125\u001b[0m                              self.pattern)\n\u001b[1;32m--> 126\u001b[1;33m         \u001b[1;32mreturn\u001b[0m \u001b[0mself\u001b[0m\u001b[1;33m.\u001b[0m\u001b[0mpattern\u001b[0m\u001b[1;33m.\u001b[0m\u001b[0msub\u001b[0m\u001b[1;33m(\u001b[0m\u001b[0mconvert\u001b[0m\u001b[1;33m,\u001b[0m \u001b[0mself\u001b[0m\u001b[1;33m.\u001b[0m\u001b[0mtemplate\u001b[0m\u001b[1;33m)\u001b[0m\u001b[1;33m\u001b[0m\u001b[1;33m\u001b[0m\u001b[0m\n\u001b[0m\u001b[0;32m    127\u001b[0m \u001b[1;33m\u001b[0m\u001b[0m\n\u001b[0;32m    128\u001b[0m     \u001b[1;32mdef\u001b[0m \u001b[0msafe_substitute\u001b[0m\u001b[1;33m(\u001b[0m\u001b[0mself\u001b[0m\u001b[1;33m,\u001b[0m \u001b[0mmapping\u001b[0m\u001b[1;33m=\u001b[0m\u001b[0m_sentinel_dict\u001b[0m\u001b[1;33m,\u001b[0m \u001b[1;33m/\u001b[0m\u001b[1;33m,\u001b[0m \u001b[1;33m**\u001b[0m\u001b[0mkws\u001b[0m\u001b[1;33m)\u001b[0m\u001b[1;33m:\u001b[0m\u001b[1;33m\u001b[0m\u001b[1;33m\u001b[0m\u001b[0m\n",
      "\u001b[1;32mc:\\users\\seongmin\\appdata\\local\\programs\\python\\python38\\lib\\string.py\u001b[0m in \u001b[0;36mconvert\u001b[1;34m(mo)\u001b[0m\n\u001b[0;32m    121\u001b[0m                 \u001b[1;32mreturn\u001b[0m \u001b[0mself\u001b[0m\u001b[1;33m.\u001b[0m\u001b[0mdelimiter\u001b[0m\u001b[1;33m\u001b[0m\u001b[1;33m\u001b[0m\u001b[0m\n\u001b[0;32m    122\u001b[0m             \u001b[1;32mif\u001b[0m \u001b[0mmo\u001b[0m\u001b[1;33m.\u001b[0m\u001b[0mgroup\u001b[0m\u001b[1;33m(\u001b[0m\u001b[1;34m'invalid'\u001b[0m\u001b[1;33m)\u001b[0m \u001b[1;32mis\u001b[0m \u001b[1;32mnot\u001b[0m \u001b[1;32mNone\u001b[0m\u001b[1;33m:\u001b[0m\u001b[1;33m\u001b[0m\u001b[1;33m\u001b[0m\u001b[0m\n\u001b[1;32m--> 123\u001b[1;33m                 \u001b[0mself\u001b[0m\u001b[1;33m.\u001b[0m\u001b[0m_invalid\u001b[0m\u001b[1;33m(\u001b[0m\u001b[0mmo\u001b[0m\u001b[1;33m)\u001b[0m\u001b[1;33m\u001b[0m\u001b[1;33m\u001b[0m\u001b[0m\n\u001b[0m\u001b[0;32m    124\u001b[0m             raise ValueError('Unrecognized named group in pattern',\n\u001b[0;32m    125\u001b[0m                              self.pattern)\n",
      "\u001b[1;32mc:\\users\\seongmin\\appdata\\local\\programs\\python\\python38\\lib\\string.py\u001b[0m in \u001b[0;36m_invalid\u001b[1;34m(self, mo)\u001b[0m\n\u001b[0;32m    104\u001b[0m             \u001b[0mcolno\u001b[0m \u001b[1;33m=\u001b[0m \u001b[0mi\u001b[0m \u001b[1;33m-\u001b[0m \u001b[0mlen\u001b[0m\u001b[1;33m(\u001b[0m\u001b[1;34m''\u001b[0m\u001b[1;33m.\u001b[0m\u001b[0mjoin\u001b[0m\u001b[1;33m(\u001b[0m\u001b[0mlines\u001b[0m\u001b[1;33m[\u001b[0m\u001b[1;33m:\u001b[0m\u001b[1;33m-\u001b[0m\u001b[1;36m1\u001b[0m\u001b[1;33m]\u001b[0m\u001b[1;33m)\u001b[0m\u001b[1;33m)\u001b[0m\u001b[1;33m\u001b[0m\u001b[1;33m\u001b[0m\u001b[0m\n\u001b[0;32m    105\u001b[0m             \u001b[0mlineno\u001b[0m \u001b[1;33m=\u001b[0m \u001b[0mlen\u001b[0m\u001b[1;33m(\u001b[0m\u001b[0mlines\u001b[0m\u001b[1;33m)\u001b[0m\u001b[1;33m\u001b[0m\u001b[1;33m\u001b[0m\u001b[0m\n\u001b[1;32m--> 106\u001b[1;33m         raise ValueError('Invalid placeholder in string: line %d, col %d' %\n\u001b[0m\u001b[0;32m    107\u001b[0m                          (lineno, colno))\n\u001b[0;32m    108\u001b[0m \u001b[1;33m\u001b[0m\u001b[0m\n",
      "\u001b[1;31mValueError\u001b[0m: Invalid placeholder in string: line 1, col 1"
     ]
    }
   ],
   "source": [
    "Template(user_input).substitute(error=err)"
   ]
  }
 ],
 "metadata": {
  "kernelspec": {
   "display_name": "Python 3",
   "language": "python",
   "name": "python3"
  },
  "language_info": {
   "codemirror_mode": {
    "name": "ipython",
    "version": 3
   },
   "file_extension": ".py",
   "mimetype": "text/x-python",
   "name": "python",
   "nbconvert_exporter": "python",
   "pygments_lexer": "ipython3",
   "version": "3.8.3"
  }
 },
 "nbformat": 4,
 "nbformat_minor": 4
}
