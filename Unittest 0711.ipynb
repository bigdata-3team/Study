{
 "cells": [
  {
   "cell_type": "raw",
   "metadata": {},
   "source": [
    "테스트를 하는 것 또한 방법론이 여러가지\n",
    "\n",
    "unittest은 객체지향 방법으로 test하는 것을 지원\n",
    "\n",
    "함수형 패러다임을 이용할 수 있지만 너무 어려움\n",
    "\n",
    "일반적으로 객체지향 방법으로 테스트함\n",
    "\n",
    "객체지향 특징: 대규모 프로그래밍 유지 보수 가장 최적화\n",
    "\n",
    "대규모는 사람이 일일이 경우의 수를 따지기 힘들다\n",
    "\n",
    "객체지향 방법론적 언어는 테스트하는 기법이 아주 많이 발전"
   ]
  },
  {
   "cell_type": "raw",
   "metadata": {},
   "source": [
    "프로그래밍이 커지면\n",
    "실제 개발 파일과 테스트 파일을 별도로 만듦\n",
    "\n",
    "분석하는 입장에서는 같이 사용한다\n",
    "분석은 아주 크지 않기 때문이다\n",
    "\n",
    "어떤 식으로 테스트를 하냐면"
   ]
  },
  {
   "cell_type": "code",
   "execution_count": null,
   "metadata": {},
   "outputs": [],
   "source": [
    "[x for x in range(10)] <- Haskell"
   ]
  },
  {
   "cell_type": "code",
   "execution_count": null,
   "metadata": {},
   "outputs": [],
   "source": [
    "assert sum([1, 2, 3]) == 6, \"6\""
   ]
  },
  {
   "cell_type": "code",
   "execution_count": null,
   "metadata": {},
   "outputs": [],
   "source": [
    "assert sum([1, 1, 1]) == 6, \"6\""
   ]
  },
  {
   "cell_type": "markdown",
   "metadata": {},
   "source": [
    "# test case"
   ]
  },
  {
   "cell_type": "code",
   "execution_count": null,
   "metadata": {},
   "outputs": [],
   "source": [
    "%%writefile sun.py\n",
    "def test_sum():\n",
    "    assert sum([1, 2, 3]) == 6, \"6\"\n",
    "    \n",
    "def test_sum_tuple():\n",
    "    assert sum((1, 2, 2)) == 6, \"6\"\n",
    "    \n",
    "if __name__ == \"__main__\": # import 사용하지 않음\n",
    "    test_sum()\n",
    "    test_sum_tuple()\n",
    "    print(\"OK\")"
   ]
  },
  {
   "cell_type": "raw",
   "metadata": {},
   "source": [
    "import에서 사용하지 않는다\n",
    "이 파일 자체를 사용하겠다\n",
    "\n",
    "자동화 방법\n",
    "sun.py에 내용이 다 들어있음"
   ]
  },
  {
   "cell_type": "code",
   "execution_count": null,
   "metadata": {},
   "outputs": [],
   "source": [
    "import sun"
   ]
  },
  {
   "cell_type": "code",
   "execution_count": null,
   "metadata": {},
   "outputs": [],
   "source": [
    "dir(sun)"
   ]
  },
  {
   "cell_type": "raw",
   "metadata": {},
   "source": [
    "if문이 생략되어 있음\n",
    "import를 하면 이 부분이 실행이 안됨"
   ]
  },
  {
   "cell_type": "code",
   "execution_count": null,
   "metadata": {},
   "outputs": [],
   "source": [
    "!python sun.py"
   ]
  },
  {
   "cell_type": "raw",
   "metadata": {},
   "source": [
    "직접 모듈을 실행하면 이 부분이 실행된다\n",
    "이 부분은 import할 때 사용하지 않지만\n",
    "파일을 직접 사용할 때는 사용한다\n",
    "\n",
    "파일을 실행하면 자동으로 실행\n",
    "많은 코드를 보면 이 부분이 있음"
   ]
  },
  {
   "cell_type": "raw",
   "metadata": {},
   "source": [
    "에러 발생: 6이어야 하는데 6이 아니다 라는 뜻\n",
    "6으로 만듦"
   ]
  },
  {
   "cell_type": "code",
   "execution_count": null,
   "metadata": {},
   "outputs": [],
   "source": [
    "%%writefile sun.py\n",
    "def test_sum():\n",
    "    assert sum([1, 2, 3]) == 6, \"6\"\n",
    "    \n",
    "def test_sum_tuple():\n",
    "    assert sum((1, 3, 2)) == 6, \"6\"\n",
    "    \n",
    "if __name__ == \"__main__\": # import 사용하지 않음\n",
    "    test_sum()\n",
    "    test_sum_tuple()\n",
    "    print(\"OK\")"
   ]
  },
  {
   "cell_type": "code",
   "execution_count": null,
   "metadata": {},
   "outputs": [],
   "source": [
    "!python sun.py"
   ]
  },
  {
   "cell_type": "raw",
   "metadata": {},
   "source": [
    "이런 방식으로 testing을 자동화\n",
    "test하는 코드도 우리가 직접 짜야한다\n",
    "\n",
    "자동화된 테스트라고 하지만\n",
    "그 자동화를 하기 위해선 우리가 직접 코드를 짜야한다"
   ]
  },
  {
   "cell_type": "raw",
   "metadata": {},
   "source": [
    "__main__의 특징은 현재 작업하고 있는 파일 공간\n",
    "__name__은 실제 이름"
   ]
  },
  {
   "cell_type": "code",
   "execution_count": null,
   "metadata": {},
   "outputs": [],
   "source": [
    "class A:\n",
    "    x = 1\n",
    "A"
   ]
  },
  {
   "cell_type": "code",
   "execution_count": null,
   "metadata": {},
   "outputs": [],
   "source": [
    "__name__ # func. 방식"
   ]
  },
  {
   "cell_type": "raw",
   "metadata": {},
   "source": [
    "func. 방식과 method 방식\n",
    "__name__ 앞에 아무것도 없다"
   ]
  },
  {
   "cell_type": "code",
   "execution_count": null,
   "metadata": {},
   "outputs": [],
   "source": [
    "dir(1) # argument를 정함"
   ]
  },
  {
   "cell_type": "raw",
   "metadata": {},
   "source": [
    "argument를 정하지 않으면\n",
    "현재 작업하고 있는 모든 공간에 있는 값들을 보여줌"
   ]
  },
  {
   "cell_type": "code",
   "execution_count": null,
   "metadata": {},
   "outputs": [],
   "source": [
    "dir()"
   ]
  },
  {
   "cell_type": "code",
   "execution_count": null,
   "metadata": {},
   "outputs": [],
   "source": [
    "__name__"
   ]
  },
  {
   "cell_type": "raw",
   "metadata": {},
   "source": [
    "앞에 인스턴스가 없으면\n",
    "현재 작업하고 있는 애 기준으로 체크를 한다\n",
    "현재 작업하고 있는 애 이름이 뭐냐 물어보니\n",
    "__main__"
   ]
  },
  {
   "cell_type": "code",
   "execution_count": null,
   "metadata": {},
   "outputs": [],
   "source": [
    "import pandas"
   ]
  },
  {
   "cell_type": "code",
   "execution_count": null,
   "metadata": {},
   "outputs": [],
   "source": [
    "pandas.__name__ # 보통 진짜 이름은 import할 때 이름"
   ]
  },
  {
   "cell_type": "raw",
   "metadata": {},
   "source": [
    "현재 작업하고 있는 파일이 아닐 때는 실제 이름이 나오고,\n",
    "\n",
    "현재 작업하고 있는 파일일 때는 __main__이 나온다\n",
    "\n",
    "= 현재 작업하고 있는게 __main__이라고 한다면,\n",
    "이 뜻은 import에서 사용하지 않는다 "
   ]
  },
  {
   "cell_type": "markdown",
   "metadata": {},
   "source": [
    "# unittest"
   ]
  },
  {
   "cell_type": "raw",
   "metadata": {},
   "source": [
    "실제로 unittest는 가장 많이 사용\n",
    "unittest는 파이썬 라이브러리 이름\n",
    "\n",
    "Unit Test는 방법론적 이름\n",
    "하나하나 조각조각을 테스트한다\n",
    "\n",
    "unittest\n",
    "자바에서 가져옴/파이썬 방식과 어울리지 않는 것들이 있다\n",
    "기본적으로 탑재\n",
    "\n",
    "nose or nose2, pytest\n",
    "파이썬 방식과 조금 더 가깝다\n",
    "별도로 설치"
   ]
  },
  {
   "cell_type": "raw",
   "metadata": {},
   "source": [
    "tab키를 누르면 라이브러리도 자동완성이 가능"
   ]
  },
  {
   "cell_type": "code",
   "execution_count": null,
   "metadata": {},
   "outputs": [],
   "source": [
    "import unittest"
   ]
  },
  {
   "cell_type": "code",
   "execution_count": null,
   "metadata": {},
   "outputs": [],
   "source": [
    "type(unittest)"
   ]
  },
  {
   "cell_type": "raw",
   "metadata": {},
   "source": [
    "모듈 = 파일\n",
    "패키지 = 폴더\n",
    "\n",
    "파이썬에서는 모듈도 객체다"
   ]
  },
  {
   "cell_type": "code",
   "execution_count": null,
   "metadata": {},
   "outputs": [],
   "source": [
    "dir(unittest)"
   ]
  },
  {
   "cell_type": "raw",
   "metadata": {},
   "source": [
    "모듈도 객체이기 때문에\n",
    "dir 쳐보면 쓸 수 있는 것들이 나온다\n",
    "\n",
    "uniitest는 JAVA 기반\n",
    "JAVA는 순수한 객체지향 언어이다\n",
    "\n",
    "객체지향 언어들의 특징은 처음에 클래스를 만든다\n",
    "클래스를 만들 때, 남이 만들어 놓은 클래스를\n",
    "가져다 쓸 수 있고, 바꿀 수 있다\n",
    "\n",
    "바꾸기 위해서 상속 기법을 쓴다\n",
    "상속은 클래스를 상속받는다"
   ]
  },
  {
   "cell_type": "raw",
   "metadata": {},
   "source": [
    "클래스인지 아닌지 알 수 있는 방법\n",
    "일일이 type을 안치고 알 수 있다\n",
    "\n",
    "카멜방식 확인\n",
    "'BaseTestSuite', 'FunctionTestCase',\n",
    "... 'TextTestResult', 'TextTestRunner',\n",
    "대부분 클래스이다.\n",
    "\n",
    "어떤 것을 상속받는가?\n",
    "어떤 경우(Unit=Case라고도 함)\n",
    "FunctionTestCase 함수를 테스트함\n",
    "TestCase 그것보다 조금 더 일반화된 것"
   ]
  },
  {
   "cell_type": "code",
   "execution_count": null,
   "metadata": {},
   "outputs": [],
   "source": [
    "from unittest import FunctionTestCase, TestCase"
   ]
  },
  {
   "cell_type": "code",
   "execution_count": null,
   "metadata": {},
   "outputs": [],
   "source": [
    "FunctionTestCase.__bases__"
   ]
  },
  {
   "cell_type": "raw",
   "metadata": {},
   "source": [
    "FunctionTestCase의 부모를 보니\n",
    "TestCase가 부모"
   ]
  },
  {
   "cell_type": "code",
   "execution_count": null,
   "metadata": {},
   "outputs": [],
   "source": [
    "issubclass(FunctionTestCase, TestCase)"
   ]
  },
  {
   "cell_type": "raw",
   "metadata": {},
   "source": [
    "TestCase가 훨씬 더 범용적이다\n",
    "\n",
    "어떤 것을 import 하는가\n",
    "TestCase\n",
    "상속을 통해서 unittest에 있는 지원하는 기능을 \n",
    "내가 만들어본다"
   ]
  },
  {
   "cell_type": "code",
   "execution_count": null,
   "metadata": {},
   "outputs": [],
   "source": [
    "class TestSum(unittest.TestCase):\n",
    "    pass"
   ]
  },
  {
   "cell_type": "raw",
   "metadata": {},
   "source": [
    "왜 이런 식으로 쓰는가?\n",
    "unittest는 Java 스타일\n",
    "Java에 있는 junit이라는 방식을 차용했다"
   ]
  },
  {
   "cell_type": "code",
   "execution_count": null,
   "metadata": {},
   "outputs": [],
   "source": [
    "class TestSum(unittest.TestCase):\n",
    "    def test_sum(self):\n",
    "        self.assertEqual(sum([1,2,3]),6) # assert sum([1,2,3]) == 6\n",
    "        \n",
    "if __name__ == '__main__': # 보통 파일을 만듦\n",
    "    unittest.main() # 자바 방식\n",
    "#    unittest.main(argv=['first-arg-is-ignored'], exit=False)"
   ]
  },
  {
   "cell_type": "raw",
   "metadata": {},
   "source": [
    "assert와 비슷한 것을 지원함\n",
    "self. 으로 사용\n",
    "\n",
    "assert는 다음에 있는 것이 참인지 거짓인지만 체크\n",
    "여기에 지원하는 assert는 아주 많은 경우를 지원\n",
    "아주 복잡한 체크를 할 수 있다는 의미"
   ]
  },
  {
   "cell_type": "raw",
   "metadata": {},
   "source": [
    "Java는 public static void main이라는 얘가 제일 먼저 시작\n",
    "main을 실행시키면 알아서 실행\n",
    "\n",
    "쥬피터노트북에서는 조금 다른 처리를 함\n",
    "main에 쉬프트+탭을 눌러 확인\n",
    "에러가 나오는 이유는 항상 첫번째 인자를 전달\n",
    "argv=['first-arg-is-ignored'], exit=False: 중지시키지 말 것\n",
    "__main__이 없어지지 않음"
   ]
  },
  {
   "cell_type": "code",
   "execution_count": null,
   "metadata": {},
   "outputs": [],
   "source": [
    "import sys"
   ]
  },
  {
   "cell_type": "code",
   "execution_count": null,
   "metadata": {},
   "outputs": [],
   "source": [
    "s = unittest.TestLoader().loadTestsFromTestCase(TestSum)\n",
    "unittest.TextTestRunner(verbosity=2, stream=sys.stderr).run(s)"
   ]
  },
  {
   "cell_type": "raw",
   "metadata": {},
   "source": [
    "쥬피터노트북으로 테스트하는 방법\n",
    "Java 방식\n",
    "쥬피터노트북에서 사용하려면\n",
    "__main__ 대신 이런 방식으로 사용\n",
    "\n",
    "분석을 하기 위해서 이런 식으로 사용\n",
    "설명을 붙일 수 있다 verbosity=0,1,2,... 설명하는 정도가 다름\n",
    "stream=sys.stderr 파일명 확인"
   ]
  },
  {
   "cell_type": "code",
   "execution_count": null,
   "metadata": {},
   "outputs": [],
   "source": [
    "%%writefile moon.py\n",
    "import unittest\n",
    "\n",
    "class TestSum(unittest.TestCase):\n",
    "    def test_sum(self):\n",
    "        self.assertEqual(sum([1,2,3]),6) # assert sum([1,2,3]) == 6\n",
    "        \n",
    "if __name__ == '__main__': # 보통 파일을 만듦\n",
    "    unittest.main() # Java 차용, Java 문법"
   ]
  },
  {
   "cell_type": "code",
   "execution_count": null,
   "metadata": {},
   "outputs": [],
   "source": [
    "!python moon.py"
   ]
  },
  {
   "cell_type": "raw",
   "metadata": {},
   "source": [
    "파일로 테스트하는 방법\n",
    "파일 방식으로 사용하면 문제 없음\n",
    "쥬피터노트북에서 사용하면 에러 발생\n",
    "\n",
    "파일 기반이라서 훨씬 더 쉬움"
   ]
  },
  {
   "cell_type": "markdown",
   "metadata": {},
   "source": [
    "# file"
   ]
  },
  {
   "cell_type": "raw",
   "metadata": {},
   "source": [
    "테스트를 더 하고 싶다면?"
   ]
  },
  {
   "cell_type": "code",
   "execution_count": null,
   "metadata": {},
   "outputs": [],
   "source": [
    "%%writefile moon.py\n",
    "import unittest\n",
    "\n",
    "class TestSum(unittest.TestCase):\n",
    "    def test_sum1(self):\n",
    "        self.assertEqual(sum([1,2,3]),6) # assert sum([1,2,3]) == 6\n",
    "    def test_sum2(self):\n",
    "        self.assertEqual(sum([3,2,1]),6) # assert sum([1,2,1]) == 6    \n",
    "        \n",
    "if __name__ == '__main__': # 보통 파일을 만듦\n",
    "    unittest.main() # Java 차용, Java 문법"
   ]
  },
  {
   "cell_type": "code",
   "execution_count": null,
   "metadata": {},
   "outputs": [],
   "source": [
    "!python moon.py"
   ]
  },
  {
   "cell_type": "raw",
   "metadata": {},
   "source": [
    "AssertionError: 4 != 6\n",
    "합이 6이 아니니까 에러 발생, 4는 6이 아니다\n",
    "\n",
    "Ran 2 tests in 0.002s\n",
    "2개 테스트를 했다\n",
    "FAILED (failures=1)\n",
    "테스트는 통과하지 못했다\n",
    "\n",
    "숫자를 바꿔서 테스트를 하여 통과"
   ]
  },
  {
   "cell_type": "markdown",
   "metadata": {},
   "source": [
    "# jupyter notebook"
   ]
  },
  {
   "cell_type": "code",
   "execution_count": null,
   "metadata": {},
   "outputs": [],
   "source": [
    "class TestSum(unittest.TestCase):\n",
    "    def test_sum(self):\n",
    "        self.assertEqual(sum([1,2,3]),6)\n",
    "s = unittest.TestLoader().loadTestsFromTestCase(TestSum)\n",
    "unittest.TextTestRunner(verbosity=2, stream=sys.stderr).run(s)"
   ]
  },
  {
   "cell_type": "markdown",
   "metadata": {},
   "source": [
    "# Unit Test 실제 예제"
   ]
  },
  {
   "cell_type": "code",
   "execution_count": 3,
   "metadata": {},
   "outputs": [],
   "source": [
    "import unittest\n",
    "from unittest import FunctionTestCase, TestCase\n",
    "import sys"
   ]
  },
  {
   "cell_type": "raw",
   "metadata": {},
   "source": [
    "객체지향 특징: 대규모 프로그래밍 유지 보수 가장 최적화\n",
    "\n",
    "__main__의 특징은 현재 작업하고 있는 파일 공간\n",
    "import 사용하지 않음\n",
    "\n",
    "__name__은 실제 이름  # func. 방식\n",
    "\n",
    "카멜방식 = 클래스"
   ]
  },
  {
   "cell_type": "code",
   "execution_count": 1,
   "metadata": {},
   "outputs": [],
   "source": [
    "class Book:\n",
    "    def __init__(self, name):\n",
    "        self.name = name\n",
    "        self._genre = 'romantic'\n",
    "        self._world = 'dark'\n",
    "    \n",
    "    def can_read(self, person):\n",
    "        if person.role == 'can':\n",
    "            return True\n",
    "        else:\n",
    "            return False"
   ]
  },
  {
   "cell_type": "raw",
   "metadata": {},
   "source": [
    "_를 쓰는 이유: 내부적으로만 사용할 것이라서\n",
    "name은 밖에서 받았다"
   ]
  },
  {
   "cell_type": "code",
   "execution_count": 2,
   "metadata": {},
   "outputs": [],
   "source": [
    "class Person:\n",
    "    def __init__(self, role):\n",
    "        self.role = role"
   ]
  },
  {
   "cell_type": "code",
   "execution_count": 26,
   "metadata": {},
   "outputs": [],
   "source": [
    "class TestBook(unittest.TestCase):\n",
    "    def setUp(self): # overriding\n",
    "        self.book = Book('sun')\n",
    "    def test_can_read(self):\n",
    "        person = Person('can1')\n",
    "        self.assertFalse(self.book.can_read(person))    "
   ]
  },
  {
   "cell_type": "code",
   "execution_count": 27,
   "metadata": {},
   "outputs": [
    {
     "name": "stderr",
     "output_type": "stream",
     "text": [
      "\n",
      "----------------------------------------------------------------------\n",
      "Ran 0 tests in 0.000s\n",
      "\n",
      "OK\n"
     ]
    },
    {
     "data": {
      "text/plain": [
       "<unittest.runner.TextTestResult run=0 errors=0 failures=0>"
      ]
     },
     "execution_count": 27,
     "metadata": {},
     "output_type": "execute_result"
    }
   ],
   "source": [
    "s = unittest.TestLoader().loadTestsFromTestCase(TestBook)\n",
    "unittest.TextTestRunner(verbosity=2).run(s)"
   ]
  },
  {
   "cell_type": "raw",
   "metadata": {},
   "source": [
    "Person('can')\n",
    "AssertionError: True is not false\n",
    "\n",
    "Person('can1')\n",
    "can1은 False니까 통과\n",
    "\n",
    "assertTrue은 반대로\n",
    "\n",
    "이런 식으로 자동화하고 싶은 것들을 계속 코드로 추가\n",
    "복잡한 클래스, 클래스, 클래스 연결되어 있을 때 \n",
    "\n",
    "Book('sun') -> Book() 인스턴스 안했다고 에러\n",
    "assert가 있기 시작하면 모든 경우의 수를 체크\n",
    "\n",
    "setUp만 있을 땐 체크하지 않음 = assert가 없기 때문에"
   ]
  },
  {
   "cell_type": "raw",
   "metadata": {},
   "source": [
    "TestCase 안에는 어떤 것을 테스트할 지 셋팅을 하라는 명령어가 제일 먼저 실행\n",
    "setUp(): Java의 override 하는 것"
   ]
  },
  {
   "cell_type": "raw",
   "metadata": {},
   "source": [
    "self.book을 인스턴스 하는데 에러가 없다\n",
    "Book('SSS'), Book() 마찬가지\n",
    "\n",
    "sepUp은 Java에서 init라고 체크를 하고,\n",
    "\n",
    "def setUp(self):\n",
    "    self.book = Book()\n",
    "\n",
    "이 부분은 실질적으로 체크를 하지 않음\n",
    "이유는 assert가 없어서\n",
    "\n",
    "자습서를 보면 setup = 사전 설정\n",
    "사전 설정을 하고, 이것이 어떻게 실행되는지 체크"
   ]
  },
  {
   "cell_type": "code",
   "execution_count": 30,
   "metadata": {
    "collapsed": true
   },
   "outputs": [
    {
     "name": "stderr",
     "output_type": "stream",
     "text": [
      "test_can_read (__main__.TestBook) ... ok\n",
      "\n",
      "----------------------------------------------------------------------\n",
      "Ran 1 test in 0.002s\n",
      "\n",
      "OK\n"
     ]
    },
    {
     "data": {
      "text/plain": [
       "<unittest.runner.TextTestResult run=1 errors=0 failures=0>"
      ]
     },
     "execution_count": 30,
     "metadata": {},
     "output_type": "execute_result"
    }
   ],
   "source": [
    "class TestBook(unittest.TestCase):\n",
    "#     def setUp(self): # overriding\n",
    "#         self.book = Book('a')    \n",
    "    def test_can_read(self):\n",
    "        self.book = Book('a')\n",
    "        person = Person('can1')\n",
    "        self.assertFalse(self.book.can_read(person))"
   ]
  },
  {
   "cell_type": "code",
   "execution_count": null,
   "metadata": {},
   "outputs": [],
   "source": [
    "s = unittest.TestLoader().loadTestsFromTestCase(TestBook)\n",
    "unittest.TextTestRunner(verbosity=2).run(s)"
   ]
  },
  {
   "cell_type": "raw",
   "metadata": {},
   "source": [
    "setUp() 부분이 없어도 가능"
   ]
  },
  {
   "cell_type": "code",
   "execution_count": 38,
   "metadata": {},
   "outputs": [],
   "source": [
    "class TestBook(unittest.TestCase):\n",
    "    def setUp(self): # overriding\n",
    "        print('Start')\n",
    "        self.book = Book('a')\n",
    "    def test_can_read(self):\n",
    "        print('test1')\n",
    "        self.book = Book('a')\n",
    "        person = Person('can1')\n",
    "        self.assertFalse(self.book.can_read(person))\n",
    "    def tearDown(self):\n",
    "        print('End')"
   ]
  },
  {
   "cell_type": "code",
   "execution_count": 39,
   "metadata": {},
   "outputs": [
    {
     "name": "stderr",
     "output_type": "stream",
     "text": [
      "test_can_read (__main__.TestBook) ... "
     ]
    },
    {
     "name": "stdout",
     "output_type": "stream",
     "text": [
      "Start\n",
      "test1\n",
      "End\n"
     ]
    },
    {
     "name": "stderr",
     "output_type": "stream",
     "text": [
      "ok\n",
      "\n",
      "----------------------------------------------------------------------\n",
      "Ran 1 test in 0.002s\n",
      "\n",
      "OK\n"
     ]
    },
    {
     "data": {
      "text/plain": [
       "<unittest.runner.TextTestResult run=1 errors=0 failures=0>"
      ]
     },
     "execution_count": 39,
     "metadata": {},
     "output_type": "execute_result"
    }
   ],
   "source": [
    "s = unittest.TestLoader().loadTestsFromTestCase(TestBook)\n",
    "unittest.TextTestRunner(verbosity=2).run(s)"
   ]
  },
  {
   "cell_type": "raw",
   "metadata": {},
   "source": [
    "self.book을 모든 테스트 기반으로 할 때는\n",
    "setUp은 제일 처음에 시작하는 시작점\n",
    "\n",
    "시작하자마자 setUp을 가장 먼저 실행\n",
    "setUp 기준으로 밑으로 가면서 테스트\n",
    "\n",
    "setUp()은 시작할 때 / tearDown()은 끝날 때\n",
    "\n",
    "setUp의 Book에 대해서 테스트하고 싶다면\n",
    "Book 클래스를 인스턴스하고,\n",
    "이 인스턴스와 관련된 메소드를 계속 추가해서 확인"
   ]
  }
 ],
 "metadata": {
  "kernelspec": {
   "display_name": "Python 3",
   "language": "python",
   "name": "python3"
  },
  "language_info": {
   "codemirror_mode": {
    "name": "ipython",
    "version": 3
   },
   "file_extension": ".py",
   "mimetype": "text/x-python",
   "name": "python",
   "nbconvert_exporter": "python",
   "pygments_lexer": "ipython3",
   "version": "3.8.3"
  }
 },
 "nbformat": 4,
 "nbformat_minor": 4
}
